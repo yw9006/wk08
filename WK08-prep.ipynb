{
 "cells": [
  {
   "cell_type": "markdown",
   "metadata": {},
   "source": [
    "# WK08 Prep"
   ]
  },
  {
   "cell_type": "code",
   "execution_count": null,
   "metadata": {},
   "outputs": [],
   "source": [
    "!wget -q https://github.com/DM-GY-9103-2024F-H/9103-utils/raw/main/src/data_utils.py"
   ]
  },
  {
   "cell_type": "code",
   "execution_count": null,
   "metadata": {},
   "outputs": [],
   "source": [
    "import matplotlib.pyplot as plt\n",
    "import numpy as np\n",
    "import pandas as pd\n",
    "import random\n",
    "\n",
    "from matplotlib.colors import to_rgba\n",
    "from sklearn.decomposition import PCA\n",
    "\n",
    "from data_utils import MinMaxScaler, StandardScaler\n",
    "from data_utils import PolynomialFeatures\n",
    "from data_utils import LinearRegression\n",
    "from data_utils import object_from_json_url"
   ]
  },
  {
   "cell_type": "markdown",
   "metadata": {},
   "source": [
    "# Regression"
   ]
  },
  {
   "cell_type": "code",
   "execution_count": null,
   "metadata": {},
   "outputs": [],
   "source": [
    "X = np.linspace(0, 30, 50)\n",
    "y_raw = [(5 * (x - 12) ** 3 - 17 * (x + 1) ** 2 - x + random.gauss(0, x * 100)) for x in X]\n",
    "y = np.array([y / 15000 + 2 for y in y_raw])\n",
    "\n",
    "X_plot = np.array([x + random.gauss(0, 2) for x in X])\n",
    "color_yes = to_rgba(\"#1f77b4ff\")\n",
    "color_no = to_rgba(\"#1f77b400\")\n",
    "\n",
    "cs = np.array([color_yes if random.randint(0, 4) < 2 else color_no for _ in X_plot])\n",
    "\n",
    "plt.figure(figsize=(9, 6.75), dpi=150)\n",
    "plt.scatter(X_plot, y, c=cs, marker='o', linestyle='')\n",
    "plt.xlabel(\"experience\")\n",
    "plt.ylabel(\"wage\")\n",
    "plt.xlim(-2, 32)\n",
    "plt.ylim(0.9, 3.6)\n",
    "plt.show()"
   ]
  },
  {
   "cell_type": "code",
   "execution_count": null,
   "metadata": {},
   "outputs": [],
   "source": [
    "poly = PolynomialFeatures(degree=3, include_bias=False)\n",
    "X_poly = poly.fit_transform(X.reshape(-1,1))\n",
    "\n",
    "model = LinearRegression()\n",
    "model.fit(X_poly, y)\n",
    "beta = np.insert(model.coef_, 0, model.intercept_)\n",
    "\n",
    "X_fit = np.linspace(-2, 32, 250)\n",
    "y_fit = np.array([beta[0] + beta[1] * x + beta[2] * x ** 2 + beta[3] * x ** 3 for x in X_fit])\n",
    "\n",
    "plt.figure(figsize=(9, 6.75), dpi=150)\n",
    "plt.scatter(X_plot, y, c=cs, marker='o', linestyle='')\n",
    "plt.plot(X_fit, y_fit, 'r')\n",
    "plt.xlabel(\"experience\")\n",
    "plt.ylabel(\"wage\")\n",
    "plt.xlim(-2, 32)\n",
    "plt.ylim(0.9, 3.6)\n",
    "plt.show()"
   ]
  },
  {
   "cell_type": "markdown",
   "metadata": {},
   "source": [
    "# Non-Linear Linear Regression"
   ]
  },
  {
   "cell_type": "code",
   "execution_count": null,
   "metadata": {},
   "outputs": [],
   "source": [
    "import json\n",
    "\n",
    "x = np.array(list(range(0, 120, 1)))\n",
    "angle_m = np.random.uniform(0,10, size=len(x))*0.1\n",
    "up_scale = np.random.randint(1,3, size=len(x))\n",
    "y = 1234 * ((np.sin(2*x*np.pi/12 - angle_m) + 0.01*x) + up_scale) + 800\n",
    "\n",
    "sales_df = pd.DataFrame(\n",
    "  {\"month\": x, \"sales\": y}\n",
    ")\n",
    "\n",
    "sales_json = [\n",
    "  {\"month\":int(m), \"sales\":int(s)} for m,s in zip(x, y)\n",
    "]\n",
    "\n",
    "plt.plot(x,y, marker='o', linestyle='-', alpha=0.3)\n",
    "plt.show()"
   ]
  },
  {
   "cell_type": "code",
   "execution_count": null,
   "metadata": {},
   "outputs": [],
   "source": [
    "with open(\"./sales.json\", \"w\", encoding=\"utf-8\") as of:\n",
    "  json.dump(sales_json, of, sort_keys=True, separators=(',',':'), ensure_ascii=False)"
   ]
  },
  {
   "cell_type": "code",
   "execution_count": null,
   "metadata": {},
   "outputs": [],
   "source": [
    "# with open(\"./sales.json\", \"r\") as f:\n",
    "#   json_data = json.load(f)\n",
    "\n",
    "# sales_df = pd.DataFrame.from_records(json_data)\n",
    "sales_df.head()\n",
    "\n",
    "plt.plot(sales_df[\"month\"], sales_df[\"sales\"], marker='o', linestyle='', alpha=0.3)\n",
    "plt.title(\"monthly sales\")\n",
    "plt.xlabel(\"month\")\n",
    "plt.ylabel(\"sales\")\n",
    "plt.show()\n",
    "\n",
    "plt.plot(sales_df[\"month\"], sales_df[\"sales\"], marker='o', linestyle='-', alpha=0.3)\n",
    "plt.title(\"monthly sales\")\n",
    "plt.xlabel(\"month\")\n",
    "plt.ylabel(\"sales\")\n",
    "plt.show()\n",
    "\n",
    "sales_scaler = MinMaxScaler()\n",
    "sales_scaled_df = sales_scaler.fit_transform(sales_df)\n",
    "\n",
    "# Create a model\n",
    "sales_model = LinearRegression()\n",
    "sales_model.fit(sales_scaled_df[[\"month\"]], sales_scaled_df[\"sales\"])\n",
    "\n",
    "predicted_scaled = sales_model.predict(sales_scaled_df[[\"month\"]])\n",
    "\n",
    "# Un-normalize the data\n",
    "predicted = sales_scaler.inverse_transform(predicted_scaled)\n",
    "\n",
    "plt.plot(sales_df[\"month\"], sales_df[\"sales\"], marker='o', alpha=0.3)\n",
    "plt.plot(sales_df[\"month\"], predicted, marker='', color='r')\n",
    "plt.title(\"monthly sales\")\n",
    "plt.xlabel(\"month\")\n",
    "plt.ylabel(\"sales\")\n",
    "plt.show()"
   ]
  },
  {
   "cell_type": "code",
   "execution_count": null,
   "metadata": {},
   "outputs": [],
   "source": [
    "def sinx(x):\n",
    "  return np.sin(2*x*np.pi/12)\n",
    "\n",
    "sales_scaled_df[\"periodic_month\"] = sales_df[\"month\"].apply(sinx)\n",
    "\n",
    "# Create a model\n",
    "features = sales_scaled_df.drop(columns=[\"sales\"])\n",
    "\n",
    "sales_model = LinearRegression()\n",
    "sales_model.fit(features, sales_scaled_df[\"sales\"])\n",
    "predicted_scaled = sales_model.predict(features)\n",
    "\n",
    "# Un-normalize the data\n",
    "predicted = sales_scaler.inverse_transform(predicted_scaled)\n",
    "\n",
    "plt.plot(sales_df[\"month\"], sales_df[\"sales\"], marker='o', alpha=0.3)\n",
    "plt.plot(sales_df[\"month\"], predicted, marker='', color='r')\n",
    "plt.title(\"monthly sales\")\n",
    "plt.xlabel(\"month\")\n",
    "plt.ylabel(\"sales\")\n",
    "plt.show()"
   ]
  },
  {
   "cell_type": "markdown",
   "metadata": {},
   "source": [
    "# Classification"
   ]
  },
  {
   "cell_type": "code",
   "execution_count": null,
   "metadata": {},
   "outputs": [],
   "source": [
    "## 1. Load Dataset\n",
    "WINE_FILE = \"https://raw.githubusercontent.com/DM-GY-9103-2024F-H/9103-utils/main/datasets/json/wines.json\"\n",
    "\n",
    "# Read into DataFrame\n",
    "wines_data = object_from_json_url(WINE_FILE)\n",
    "wines_df = pd.DataFrame.from_records(wines_data)\n",
    "\n",
    "## 3. Normalize\n",
    "wine_scaler = StandardScaler()\n",
    "wines_scaled = wine_scaler.fit_transform(wines_df)\n",
    "\n",
    "features = wines_scaled.drop(columns=[\"quality\"])\n",
    "wines_scaled.cov()[\"quality\"].sort_values()"
   ]
  },
  {
   "cell_type": "code",
   "execution_count": null,
   "metadata": {},
   "outputs": [],
   "source": [
    "wine_pca = PCA()\n",
    "wines_pcad = wine_pca.fit_transform(features.values)"
   ]
  },
  {
   "cell_type": "code",
   "execution_count": null,
   "metadata": {},
   "outputs": [],
   "source": [
    "colors = ['#1f77b4', '#ff7f0e', '#2ca02c', '#d62728', '#9467bd', '#8c564b', '#e377c2', '#7f7f7f', '#bcbd22', '#17becf']"
   ]
  },
  {
   "cell_type": "code",
   "execution_count": null,
   "metadata": {},
   "outputs": [],
   "source": [
    "x = features[\"alcohol\"].values\n",
    "y = features[\"density\"].values\n",
    "c = [colors[int(i)] for i in wines_scaled[\"quality\"].values]\n",
    "\n",
    "plt.scatter(x, y, color=c, marker='o', linestyle='', alpha=0.7)\n",
    "plt.show()"
   ]
  },
  {
   "cell_type": "code",
   "execution_count": null,
   "metadata": {},
   "outputs": [],
   "source": [
    "x = wines_pcad[:, 0]\n",
    "y = wines_pcad[:, 1]\n",
    "c = [colors[int(i)] for i in wines_scaled[\"quality\"].values]\n",
    "\n",
    "# Plot the PCAs\n",
    "plt.scatter(x, y, color=c, marker='o', linestyle='', alpha=0.7)\n",
    "plt.show()"
   ]
  },
  {
   "cell_type": "code",
   "execution_count": null,
   "metadata": {},
   "outputs": [],
   "source": [
    "from sklearn.cluster import KMeans\n",
    "\n",
    "## 5. Create a KMeans object\n",
    "km_model = KMeans(n_clusters=4, n_init=10)\n",
    "\n",
    "# Create a model that tries to group wines by features\n",
    "result = km_model.fit(features.values)\n",
    "\n",
    "## 6. Run the model on the training data\n",
    "predicted_scaled = km_model.predict(features.values)"
   ]
  },
  {
   "cell_type": "code",
   "execution_count": null,
   "metadata": {},
   "outputs": [],
   "source": [
    "x = features[\"alcohol\"].values\n",
    "y = features[\"density\"].values\n",
    "c = [colors[i] for i in predicted_scaled]\n",
    "\n",
    "plt.scatter(x, y, color=c, marker='o', linestyle='', alpha=0.5)\n",
    "plt.xlim(-2,3)\n",
    "plt.ylim(-2,3)\n",
    "plt.show()"
   ]
  },
  {
   "cell_type": "code",
   "execution_count": null,
   "metadata": {},
   "outputs": [],
   "source": [
    "x = wines_pcad[:, 0]\n",
    "y = wines_pcad[:, 1]\n",
    "c = [colors[i] for i in predicted_scaled]\n",
    "\n",
    "# Plot the PCAs\n",
    "plt.scatter(x, y, color=c, marker='o', linestyle='', alpha=0.5)\n",
    "plt.xlim(-4,4)\n",
    "plt.ylim(-4,4)\n",
    "plt.show()\n"
   ]
  },
  {
   "cell_type": "markdown",
   "metadata": {},
   "source": [
    "# Iris"
   ]
  },
  {
   "cell_type": "code",
   "execution_count": null,
   "metadata": {},
   "outputs": [],
   "source": [
    "from sklearn import datasets\n",
    "iris = datasets.load_iris()\n",
    "X_reduced = PCA(n_components=3).fit_transform(iris.data)"
   ]
  },
  {
   "cell_type": "code",
   "execution_count": null,
   "metadata": {},
   "outputs": [],
   "source": [
    "x = iris.data[:, 0]\n",
    "y = iris.data[:, 1]\n",
    "c = [colors[int(i)] for i in iris.target]\n",
    "\n",
    "plt.scatter(x, y, color=c, marker='o', linestyle='', alpha=0.5)\n",
    "plt.show()"
   ]
  },
  {
   "cell_type": "code",
   "execution_count": null,
   "metadata": {},
   "outputs": [],
   "source": [
    "x = X_reduced[:, 0]\n",
    "y = X_reduced[:, 1]\n",
    "c = [colors[int(i)] for i in iris.target]\n",
    "\n",
    "\n",
    "plt.figure(figsize=(9, 6.75), dpi=150)\n",
    "plt.scatter(x, y, color=colors[0], marker='o', linestyle='', alpha=0.7)\n",
    "plt.xlabel(\"petal length\")\n",
    "plt.ylabel(\"petal width\")\n",
    "plt.show()\n",
    "\n",
    "plt.figure(figsize=(9, 6.75), dpi=150)\n",
    "plt.scatter(x, y, color=c, marker='o', linestyle='', alpha=0.7)\n",
    "plt.xlabel(\"petal length\")\n",
    "plt.ylabel(\"petal width\")\n",
    "plt.show()"
   ]
  }
 ],
 "metadata": {
  "kernelspec": {
   "display_name": "9103",
   "language": "python",
   "name": "python3"
  },
  "language_info": {
   "codemirror_mode": {
    "name": "ipython",
    "version": 3
   },
   "file_extension": ".py",
   "mimetype": "text/x-python",
   "name": "python",
   "nbconvert_exporter": "python",
   "pygments_lexer": "ipython3",
   "version": "3.10.13"
  }
 },
 "nbformat": 4,
 "nbformat_minor": 2
}
